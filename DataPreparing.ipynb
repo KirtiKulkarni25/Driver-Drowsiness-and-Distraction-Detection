{
 "cells": [
  {
   "cell_type": "code",
   "execution_count": null,
   "id": "c67df5ee",
   "metadata": {},
   "outputs": [],
   "source": []
  },
  {
   "cell_type": "code",
   "execution_count": 1,
   "id": "46cf9e50",
   "metadata": {},
   "outputs": [],
   "source": [
    "import os #we will go through the folder\n",
    "import shutil #copy the open and close data from raw data to prepare data\n",
    "import tqdm \n",
    "import glob #funtion used to search files that matches th specific file pattern or name\n",
    "from tqdm import tqdm\n"
   ]
  },
  {
   "cell_type": "markdown",
   "id": "dc5e87cb",
   "metadata": {},
   "source": [
    "subject ID\n",
    "image ID\n",
    "gender [0 - man, 1 - woman]\n",
    "glasses [0 - no, 1 - yes]\n",
    "eye state [0 - closed, 1 - open]\n",
    "reflections [0 - none, 1 - small, 2 - big]\n",
    "lighting conditions [0 - bad, 1 - good]\n",
    "sensor ID [01 - RealSense, 02 - IDS, 03 - Aptina]\n",
    "Example:s001_00123_0_0_0_0_0_01.png"
   ]
  },
  {
   "cell_type": "code",
   "execution_count": 4,
   "id": "1370797a",
   "metadata": {},
   "outputs": [],
   "source": [
    "raw_dir= r'C:\\Users\\master\\Documents\\mega_project\\mrlEyes_2018_01\\mrlEyes_2018_01'"
   ]
  },
  {
   "cell_type": "code",
   "execution_count": 9,
   "id": "2d78b527",
   "metadata": {},
   "outputs": [
    {
     "name": "stderr",
     "output_type": "stream",
     "text": [
      "0it [00:00, ?it/s]\n",
      "100%|██████████| 3242/3242 [00:08<00:00, 394.22it/s]\n",
      "100%|██████████| 1114/1114 [00:02<00:00, 394.63it/s]\n",
      "100%|██████████| 679/679 [00:01<00:00, 368.48it/s]\n",
      "100%|██████████| 1069/1069 [00:02<00:00, 391.09it/s]\n",
      "100%|██████████| 736/736 [00:01<00:00, 411.02it/s]\n",
      "100%|██████████| 1012/1012 [00:02<00:00, 359.96it/s]\n",
      "100%|██████████| 624/624 [00:01<00:00, 347.09it/s]\n",
      "100%|██████████| 832/832 [00:02<00:00, 347.74it/s]\n",
      "100%|██████████| 387/387 [00:00<00:00, 394.95it/s]\n",
      "100%|██████████| 399/399 [00:01<00:00, 355.99it/s]\n",
      "100%|██████████| 1648/1648 [00:04<00:00, 386.63it/s]\n",
      "100%|██████████| 8728/8728 [00:27<00:00, 312.01it/s]\n",
      "100%|██████████| 3605/3605 [00:10<00:00, 336.65it/s]\n",
      "100%|██████████| 8884/8884 [00:28<00:00, 311.59it/s]\n",
      "100%|██████████| 1132/1132 [00:03<00:00, 312.54it/s]\n",
      "100%|██████████| 1889/1889 [00:06<00:00, 305.03it/s]\n",
      "100%|██████████| 1648/1648 [00:04<00:00, 333.76it/s]\n",
      "100%|██████████| 4410/4410 [00:14<00:00, 307.84it/s]\n",
      "100%|██████████| 6175/6175 [00:36<00:00, 171.07it/s]\n",
      "100%|██████████| 704/704 [00:03<00:00, 189.19it/s]\n",
      "100%|██████████| 987/987 [00:05<00:00, 188.50it/s]\n",
      "100%|██████████| 382/382 [00:02<00:00, 188.16it/s]\n",
      "100%|██████████| 522/522 [00:02<00:00, 185.08it/s]\n",
      "100%|██████████| 752/752 [00:03<00:00, 229.92it/s]\n",
      "100%|██████████| 1502/1502 [00:07<00:00, 201.69it/s]\n",
      "100%|██████████| 1246/1246 [00:05<00:00, 247.28it/s]\n",
      "100%|██████████| 665/665 [00:02<00:00, 278.17it/s]\n",
      "100%|██████████| 736/736 [00:02<00:00, 280.46it/s]\n",
      "100%|██████████| 1393/1393 [00:05<00:00, 248.02it/s]\n",
      "100%|██████████| 1384/1384 [00:05<00:00, 274.41it/s]\n",
      "100%|██████████| 1738/1738 [00:06<00:00, 255.77it/s]\n",
      "100%|██████████| 6162/6162 [00:25<00:00, 241.89it/s]\n",
      "100%|██████████| 681/681 [00:02<00:00, 255.78it/s]\n",
      "100%|██████████| 739/739 [00:03<00:00, 242.21it/s]\n",
      "100%|██████████| 642/642 [00:02<00:00, 241.60it/s]\n",
      "100%|██████████| 6193/6193 [00:24<00:00, 248.01it/s]\n",
      "100%|██████████| 10257/10257 [00:36<00:00, 280.92it/s]\n"
     ]
    }
   ],
   "source": [
    "for dirpath, dirname, filenames in os.walk(raw_dir):\n",
    "    for i in tqdm([f for f in filenames if f.endswith('.png')]):\n",
    "        if i.split('_')[4]=='0':\n",
    "            shutil.copy(src=dirpath+'/'+i,dst= r'C:\\Users\\master\\Documents\\mega_project\\prepared_dataset\\close_eyes')\n",
    "        \n",
    "        elif i.split('_')[4]=='1':\n",
    "            shutil.copy(src=dirpath+'/'+i,dst= r'C:\\Users\\master\\Documents\\mega_project\\prepared_dataset\\open_eyes')\n",
    "            \n",
    "            \n",
    "        "
   ]
  },
  {
   "cell_type": "code",
   "execution_count": 5,
   "id": "6fc44dd7",
   "metadata": {},
   "outputs": [],
   "source": [
    "i='s001_00123_0_0_0_0_0_01'"
   ]
  },
  {
   "cell_type": "code",
   "execution_count": 6,
   "id": "91a39e77",
   "metadata": {},
   "outputs": [
    {
     "data": {
      "text/plain": [
       "['s001', '00123', '0', '0', '0', '0', '0', '01']"
      ]
     },
     "execution_count": 6,
     "metadata": {},
     "output_type": "execute_result"
    }
   ],
   "source": [
    "i.split('_')"
   ]
  },
  {
   "cell_type": "code",
   "execution_count": 7,
   "id": "a36882b9",
   "metadata": {},
   "outputs": [
    {
     "data": {
      "text/plain": [
       "'0'"
      ]
     },
     "execution_count": 7,
     "metadata": {},
     "output_type": "execute_result"
    }
   ],
   "source": [
    "i.split('_')[4]"
   ]
  },
  {
   "cell_type": "code",
   "execution_count": null,
   "id": "36b3cdc1",
   "metadata": {},
   "outputs": [],
   "source": []
  }
 ],
 "metadata": {
  "kernelspec": {
   "display_name": "Python 3 (ipykernel)",
   "language": "python",
   "name": "python3"
  },
  "language_info": {
   "codemirror_mode": {
    "name": "ipython",
    "version": 3
   },
   "file_extension": ".py",
   "mimetype": "text/x-python",
   "name": "python",
   "nbconvert_exporter": "python",
   "pygments_lexer": "ipython3",
   "version": "3.10.5"
  }
 },
 "nbformat": 4,
 "nbformat_minor": 5
}
